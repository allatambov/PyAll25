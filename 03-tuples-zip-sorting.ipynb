{
 "cells": [
  {
   "cell_type": "markdown",
   "metadata": {},
   "source": [
    "# Программирование для всех (основы работы с Python)\n",
    "\n",
    "*Алла Тамбовцева, НИУ ВШЭ*\n",
    "\n",
    "## Кортежи, функция `zip()` и сортировка\n",
    "\n",
    "### Кортежи\n",
    "\n",
    "Кортежи встречаются не только в программировании, но и в математике. В математике под кортежем обычно понимают упорядоченную совокупность элементов, то есть совокупность, порядок элементов которой фиксирован. В кортеже мы точно знаем, какой элемент является первым, какой – вторым, и так далее.\n",
    "\n",
    "Внешне кортежи в Python (тип `tuple`) несильно отличаются от списков (тип `list`). Единственное внешнее отличие – элементы кортежа заключаются в круглые, а не в квадратные скобки. При этом Python умеет создавать кортежи «по умолчанию» – если мы просто перечислим элементы через запятую, он автоматически добавит круглые скобки и сформирует кортеж:"
   ]
  },
  {
   "cell_type": "code",
   "execution_count": 1,
   "metadata": {},
   "outputs": [
    {
     "data": {
      "text/plain": [
       "(1, 0)"
      ]
     },
     "execution_count": 1,
     "metadata": {},
     "output_type": "execute_result"
    }
   ],
   "source": [
    "1, 0"
   ]
  },
  {
   "cell_type": "code",
   "execution_count": 2,
   "metadata": {},
   "outputs": [
    {
     "data": {
      "text/plain": [
       "(1, 8, 9)"
      ]
     },
     "execution_count": 2,
     "metadata": {},
     "output_type": "execute_result"
    }
   ],
   "source": [
    "1, 8, 9"
   ]
  },
  {
   "cell_type": "markdown",
   "metadata": {},
   "source": [
    "Однако мы можем создать кортеж и самостоятельно, поставив нужные скобки:"
   ]
  },
  {
   "cell_type": "code",
   "execution_count": 3,
   "metadata": {},
   "outputs": [
    {
     "name": "stdout",
     "output_type": "stream",
     "text": [
      "('Петя', 5, 'дом')\n"
     ]
    }
   ],
   "source": [
    "# питон Петя, которому 5 лет, живет в загородном доме\n",
    "# в кортеже могут быть элементы разных типов\n",
    "\n",
    "info = (\"Петя\", 5, \"дом\")\n",
    "print(info)"
   ]
  },
  {
   "cell_type": "markdown",
   "metadata": {},
   "source": [
    "К элементам кортежа можно обращаться точно так же, как к элементам строки или списка:"
   ]
  },
  {
   "cell_type": "code",
   "execution_count": 4,
   "metadata": {},
   "outputs": [
    {
     "name": "stdout",
     "output_type": "stream",
     "text": [
      "Петя дом\n"
     ]
    }
   ],
   "source": [
    "print(info[0], info[-1])"
   ]
  },
  {
   "cell_type": "markdown",
   "metadata": {},
   "source": [
    "Точно так же можно перебирать элементы в цикле:"
   ]
  },
  {
   "cell_type": "code",
   "execution_count": 5,
   "metadata": {},
   "outputs": [
    {
     "name": "stdout",
     "output_type": "stream",
     "text": [
      "Петя\n",
      "5\n",
      "дом\n"
     ]
    }
   ],
   "source": [
    "for j in info:\n",
    "    print(j)"
   ]
  },
  {
   "cell_type": "markdown",
   "metadata": {},
   "source": [
    "Однако, несмотря на кажущееся сходство, кортежи и списки – принципиально разные объекты. Главное отличие кортежей от списков заключается в том, что кортежи – неизменяемые объекты. Другими словами, изменять элементы кортежа нельзя. \n",
    "\n",
    "Проверим: попробуем выбрать элемент кортежа и через `=` присвоить ему новое значение:"
   ]
  },
  {
   "cell_type": "code",
   "execution_count": 6,
   "metadata": {},
   "outputs": [
    {
     "ename": "TypeError",
     "evalue": "'tuple' object does not support item assignment",
     "output_type": "error",
     "traceback": [
      "\u001b[0;31m---------------------------------------------------------------------------\u001b[0m",
      "\u001b[0;31mTypeError\u001b[0m                                 Traceback (most recent call last)",
      "\u001b[0;32m<ipython-input-6-781f4bab1191>\u001b[0m in \u001b[0;36m<module>\u001b[0;34m\u001b[0m\n\u001b[0;32m----> 1\u001b[0;31m \u001b[0minfo\u001b[0m\u001b[0;34m[\u001b[0m\u001b[0;36m1\u001b[0m\u001b[0;34m]\u001b[0m \u001b[0;34m=\u001b[0m \u001b[0;36m2\u001b[0m\u001b[0;34m\u001b[0m\u001b[0;34m\u001b[0m\u001b[0m\n\u001b[0m",
      "\u001b[0;31mTypeError\u001b[0m: 'tuple' object does not support item assignment"
     ]
    }
   ],
   "source": [
    "# нет\n",
    "# на этом типе (tuple) такая операция не разрешена\n",
    "\n",
    "info[1] = 2"
   ]
  },
  {
   "cell_type": "markdown",
   "metadata": {},
   "source": [
    "Иногда это свойство бывает полезным (некоторая «защита» от изменений), иногда – не очень, но для нас пока важно познакомиться с разными объектами в Python, чтобы потом не удивляться. Ведь многие более продвинутые функции могут возвращать результат или, наоборот, принимать на вход только кортежи или только списки.\n",
    "\n",
    "Если посмотреть на методы, применяемые к кортежам, то можно заметить, что методов, определённых на кортежах, всего два – это `.index()` и `.count()`:"
   ]
  },
  {
   "cell_type": "code",
   "execution_count": 7,
   "metadata": {},
   "outputs": [
    {
     "data": {
      "text/plain": [
       "1"
      ]
     },
     "execution_count": 7,
     "metadata": {},
     "output_type": "execute_result"
    }
   ],
   "source": [
    "# какой индекс у элемента 5\n",
    "info.index(5)"
   ]
  },
  {
   "cell_type": "code",
   "execution_count": 9,
   "metadata": {},
   "outputs": [
    {
     "data": {
      "text/plain": [
       "1"
      ]
     },
     "execution_count": 9,
     "metadata": {},
     "output_type": "execute_result"
    }
   ],
   "source": [
    "# сколько элементов \"дом\"\n",
    "info.count(\"дом\")"
   ]
  },
  {
   "cell_type": "markdown",
   "metadata": {},
   "source": [
    "Во многом это связано с тем, что кортеж нельзя изменить. Но вот «склеивать» кортежи, создавая при этом новый, легко, оператор `+` одинаково работает с последовательностями разных типов (по аналогии со строками и списками):"
   ]
  },
  {
   "cell_type": "code",
   "execution_count": 10,
   "metadata": {},
   "outputs": [
    {
     "data": {
      "text/plain": [
       "(1, 3, 7, 8)"
      ]
     },
     "execution_count": 10,
     "metadata": {},
     "output_type": "execute_result"
    }
   ],
   "source": [
    "(1, 3) + (7, 8)"
   ]
  },
  {
   "cell_type": "markdown",
   "metadata": {},
   "source": [
    "### Кортежи и цикл `for` для вложенных структур"
   ]
  },
  {
   "cell_type": "markdown",
   "metadata": {},
   "source": [
    "Рассмотрим такую задачу. В списке `pairs` сохранены пары *имя студента*-*оценка*:"
   ]
  },
  {
   "cell_type": "code",
   "execution_count": 11,
   "metadata": {},
   "outputs": [
    {
     "name": "stdout",
     "output_type": "stream",
     "text": [
      "[('Anna', 10), ('Kate', 8), ('Paul', 7), ('Nick', 9)]\n"
     ]
    }
   ],
   "source": [
    "pairs = [(\"Anna\", 10), (\"Kate\", 8), (\"Paul\", 7), (\"Nick\", 9)]\n",
    "print(pairs)"
   ]
  },
  {
   "cell_type": "markdown",
   "metadata": {},
   "source": [
    "Нам нужно вывести информацию по каждому студенту с новой строки – имя и оценку через пробел. Если мы просто переберем элементы в `pairs` через цикл `for`, мы получим не совсем то, что нужно:"
   ]
  },
  {
   "cell_type": "code",
   "execution_count": 12,
   "metadata": {},
   "outputs": [
    {
     "name": "stdout",
     "output_type": "stream",
     "text": [
      "('Anna', 10)\n",
      "('Kate', 8)\n",
      "('Paul', 7)\n",
      "('Nick', 9)\n"
     ]
    }
   ],
   "source": [
    "for pair in pairs:\n",
    "    print(pair)"
   ]
  },
  {
   "cell_type": "markdown",
   "metadata": {},
   "source": [
    "Для цикла выше `pair` – это одна пара, то есть кортеж, целиком. Поэтому целиком Python его и выводит на экран, со всеми скобками и запятыми. Как быть? Мы знаем, что раз `pair` – это кортеж, из него можно выбрать первый и второй элемент по индексу:"
   ]
  },
  {
   "cell_type": "code",
   "execution_count": 13,
   "metadata": {},
   "outputs": [
    {
     "name": "stdout",
     "output_type": "stream",
     "text": [
      "Anna 10\n",
      "Kate 8\n",
      "Paul 7\n",
      "Nick 9\n"
     ]
    }
   ],
   "source": [
    "for pair in pairs:\n",
    "    print(pair[0], pair[1])"
   ]
  },
  {
   "cell_type": "markdown",
   "metadata": {},
   "source": [
    "Задача решена! Усложним задачу – будем выводить на экран имена только тех студентов, у которых отличная оценка, 8 и выше. Добавим внутри цикла условие на второй элемент в паре, а в `print()` поместим первый:"
   ]
  },
  {
   "cell_type": "code",
   "execution_count": 14,
   "metadata": {},
   "outputs": [
    {
     "name": "stdout",
     "output_type": "stream",
     "text": [
      "Anna\n",
      "Kate\n",
      "Nick\n"
     ]
    }
   ],
   "source": [
    "for pair in pairs:\n",
    "    if pair[1] >= 8:\n",
    "        print(pair[0])"
   ]
  },
  {
   "cell_type": "markdown",
   "metadata": {},
   "source": [
    "Решения выше получились рабочими и довольно лаконичными, однако Python позволяет выполнить те же действия более изящно. Если мы точно знаем, что в `pair` всегда два элемента, мы можем каждый из них назвать (как переменные) и указать оба названия перед `in` в цикле `for`:"
   ]
  },
  {
   "cell_type": "code",
   "execution_count": 15,
   "metadata": {},
   "outputs": [
    {
     "name": "stdout",
     "output_type": "stream",
     "text": [
      "Anna 10\n",
      "Kate 8\n",
      "Paul 7\n",
      "Nick 9\n"
     ]
    }
   ],
   "source": [
    "for name, grade in pairs:\n",
    "    print(name, grade)"
   ]
  },
  {
   "cell_type": "code",
   "execution_count": 16,
   "metadata": {},
   "outputs": [
    {
     "name": "stdout",
     "output_type": "stream",
     "text": [
      "Anna\n",
      "Kate\n",
      "Nick\n"
     ]
    }
   ],
   "source": [
    "for name, grade in pairs:\n",
    "    if grade >= 8:\n",
    "        print(name)"
   ]
  },
  {
   "cell_type": "markdown",
   "metadata": {},
   "source": [
    "В циклах выше Python понимает, что внутри `pairs` хранятся пары (потому что перед `in` указаны через запятую два названия), первый элемент в каждой паре мы называем `name`, второй – `grade`. Поэтому далее, чтобы не «таскать» за собой квадратные скобки и индексы элементов в каждой паре, мы сможем обращаться к ним через `name` и `grade`.\n",
    "\n",
    "> Такое упрощение возможно благодаря тому, что в Python разрешено множественное присваивание. Если мы напишем `a, b = 0, 1`, Python прочитает это как `(a, b) = (0, 1)` и сохранит в переменную `a` число 0, а в переменную `b` – число 1. Так и здесь, на каждом шаге цикла Python разбирает пару на элементы и записывает в `name` имя студента, а в `grade` – оценку."
   ]
  },
  {
   "cell_type": "markdown",
   "metadata": {},
   "source": [
    "### Функция `zip()`\n",
    "\n",
    "Как работать с одним списком мы уже знаем – можно, например, перебирать его элементы с помощью цикла `for` и выполнять с ними какие-то действия. А как быть, если у нас есть несколько списков одинаковой длины, и мы хотим работать одновременно с первыми элементами всех списков, вторыми элементами всех списков, третьими элементами всех списков, и так далее?\n",
    "\n",
    "Рассмотрим такую задачу. Для каждого из семи сотрудников зафиксирован год начала работы в университете (`start`) и год окончания работы в университете (`end`). Нам нужно посчитать, сколько лет сотрудник проработал в университете."
   ]
  },
  {
   "cell_type": "code",
   "execution_count": 18,
   "metadata": {},
   "outputs": [],
   "source": [
    "# если сотрудник еще работает, указан текущий год\n",
    "\n",
    "start = [1998, 2000, 2012, 2016, 2023, 2024, 2014]\n",
    "end = [2021, 2025, 2022, 2018, 2023, 2025, 2025]"
   ]
  },
  {
   "cell_type": "markdown",
   "metadata": {},
   "source": [
    "Убедимся, что списки точно одинаковой длины, иначе задача потеряет смысл:"
   ]
  },
  {
   "cell_type": "code",
   "execution_count": 19,
   "metadata": {},
   "outputs": [
    {
     "name": "stdout",
     "output_type": "stream",
     "text": [
      "True\n"
     ]
    }
   ],
   "source": [
    "print(len(start) == len(end))"
   ]
  },
  {
   "cell_type": "markdown",
   "metadata": {},
   "source": [
    "Раз в списках одинаковое число элементов, первый логичный шаг – делать перебор не самих элементов списков, а их индексов. Тогда мы сможем выбрать первый элемент списка `end` и вычесть из него первый элемент списка `start`, получить результат для первого сотрудника, а затем проделать эту операцию для всех остальных.\n",
    "Всего мы должны выполнить вычитание семь раз – длины списков одинаковы и равны 7."
   ]
  },
  {
   "cell_type": "markdown",
   "metadata": {},
   "source": [
    "Чтобы универсальным образом (работающим не только для списков из семи элементов) получить набор индексов, нам понадобятся функции `range()` и `len()`:"
   ]
  },
  {
   "cell_type": "code",
   "execution_count": 20,
   "metadata": {},
   "outputs": [
    {
     "name": "stdout",
     "output_type": "stream",
     "text": [
      "7\n",
      "[0, 1, 2, 3, 4, 5, 6]\n"
     ]
    }
   ],
   "source": [
    "# длина 7\n",
    "# индексы 0, 1, 2, 3, 4, 5, 6\n",
    "\n",
    "print(len(start))\n",
    "print(list(range(0, len(start))))"
   ]
  },
  {
   "cell_type": "markdown",
   "metadata": {},
   "source": [
    "Используя эти индексы, мы сможем перебрать элементы сразу в двух списках:"
   ]
  },
  {
   "cell_type": "code",
   "execution_count": 21,
   "metadata": {},
   "outputs": [
    {
     "name": "stdout",
     "output_type": "stream",
     "text": [
      "23\n",
      "25\n",
      "10\n",
      "2\n",
      "0\n",
      "1\n",
      "11\n"
     ]
    }
   ],
   "source": [
    "# на первом шаге i=0, первые элементы списков\n",
    "# на втором шаге i=1, вторые элементы списков ...\n",
    "\n",
    "if len(start) == len(end):\n",
    "    for i in range(0, len(start)):\n",
    "        print(end[i] - start[i])"
   ]
  },
  {
   "cell_type": "markdown",
   "metadata": {},
   "source": [
    "Осталось только записать результаты в новый список. Воспользуемся методом `.append()`:"
   ]
  },
  {
   "cell_type": "code",
   "execution_count": 22,
   "metadata": {},
   "outputs": [
    {
     "name": "stdout",
     "output_type": "stream",
     "text": [
      "23\n",
      "25\n",
      "10\n",
      "2\n",
      "0\n",
      "1\n",
      "11\n",
      "[23, 25, 10, 2, 0, 1, 11]\n"
     ]
    }
   ],
   "source": [
    "years = []\n",
    "\n",
    "if len(start) == len(end):\n",
    "    for i in range(0, len(start)):\n",
    "        print(end[i] - start[i])\n",
    "        years.append(end[i] - start[i])\n",
    "print(years)"
   ]
  },
  {
   "cell_type": "markdown",
   "metadata": {},
   "source": [
    "Однако задач такого рода можно найти и более изящное решение – при работе в Python стараются избегать перебора элементов по индексам, сама конструкция `for ... in range(len(...))` считается нежелательной. Да и просто громоздко получается. Для этого решения нам понадобится функция `zip()`. \n",
    "\n",
    "Название этой функции говорящее – она как «молния» на одежде соединяет списки одинаковой длины, образуя пары/тройки/четверки элементов, в зависимости от количества списков. Функция `zip()` создает специальный объект типа `zip()`, элементы которого, как и в случае с `range()`, нам не видны:"
   ]
  },
  {
   "cell_type": "code",
   "execution_count": 26,
   "metadata": {},
   "outputs": [
    {
     "name": "stdout",
     "output_type": "stream",
     "text": [
      "<zip object at 0x1088f4550>\n"
     ]
    }
   ],
   "source": [
    "# в какой-то ячейке памяти 0x1088f4550 временно хранится результат\n",
    "\n",
    "print(zip(start, end))"
   ]
  },
  {
   "cell_type": "markdown",
   "metadata": {},
   "source": [
    "Чтобы увидеть результат, переделаем его в список – объект типа `zip` внутри не отличим от списка из кортежей:"
   ]
  },
  {
   "cell_type": "code",
   "execution_count": 27,
   "metadata": {},
   "outputs": [
    {
     "name": "stdout",
     "output_type": "stream",
     "text": [
      "[(1998, 2021), (2000, 2025), (2012, 2022), (2016, 2018), (2023, 2023), (2024, 2025), (2014, 2025)]\n"
     ]
    }
   ],
   "source": [
    "# пары элементов\n",
    "\n",
    "print(list(zip(start, end)))"
   ]
  },
  {
   "cell_type": "code",
   "execution_count": 28,
   "metadata": {},
   "outputs": [
    {
     "name": "stdout",
     "output_type": "stream",
     "text": [
      "[(1998, 2021, 1998), (2000, 2025, 2000), (2012, 2022, 2012), (2016, 2018, 2016), (2023, 2023, 2023), (2024, 2025, 2024), (2014, 2025, 2014)]\n"
     ]
    }
   ],
   "source": [
    "# тройки элементов\n",
    "\n",
    "print(list(zip(start, end, start)))"
   ]
  },
  {
   "cell_type": "markdown",
   "metadata": {},
   "source": [
    "Как нам использовать функцию `zip()` в нашей задаче? Вернемся к парам лет и сделаем перебор по полученному списку пар. Как мы уже убедились, Python умеет выполнять перебор в цикле `for` сразу по нескольким элементам, если мы укажем их через запятую:"
   ]
  },
  {
   "cell_type": "code",
   "execution_count": 31,
   "metadata": {},
   "outputs": [
    {
     "name": "stdout",
     "output_type": "stream",
     "text": [
      "23\n",
      "25\n",
      "10\n",
      "2\n",
      "0\n",
      "1\n",
      "11\n"
     ]
    }
   ],
   "source": [
    "if len(start) == len(end):\n",
    "    for s, e in zip(start, end):\n",
    "        print(e - s)"
   ]
  },
  {
   "cell_type": "markdown",
   "metadata": {},
   "source": [
    "Для получения решения, эквивалентному полученному выше через `range()` и индексы, допишем часть для создания списка `years`:"
   ]
  },
  {
   "cell_type": "code",
   "execution_count": 33,
   "metadata": {},
   "outputs": [
    {
     "name": "stdout",
     "output_type": "stream",
     "text": [
      "[23, 25, 10, 2, 0, 1, 11]\n"
     ]
    }
   ],
   "source": [
    "years = []\n",
    "\n",
    "if len(start) == len(end):\n",
    "    for s, e in zip(start, end):\n",
    "        years.append(e - s)\n",
    "print(years)"
   ]
  },
  {
   "cell_type": "markdown",
   "metadata": {},
   "source": [
    "Гораздо приятнее и компактнее!"
   ]
  },
  {
   "cell_type": "markdown",
   "metadata": {},
   "source": [
    "### Сортировка"
   ]
  },
  {
   "cell_type": "markdown",
   "metadata": {},
   "source": [
    "В заключение рассмотрим примеры сортировки, в том числе вложенных структур. Рассмотрим сортировку с помощью функции `sorted()` – в отличие от метода `.sort()`, который работает только на списках, эта функция более универсальная. Начнем с простого примера – сортировки обычного списка чисел:"
   ]
  },
  {
   "cell_type": "code",
   "execution_count": 34,
   "metadata": {},
   "outputs": [],
   "source": [
    "L = [1, 3, 7, 9, 5, 0]"
   ]
  },
  {
   "cell_type": "markdown",
   "metadata": {},
   "source": [
    "По умолчанию сортировка производится по возрастанию:"
   ]
  },
  {
   "cell_type": "code",
   "execution_count": 35,
   "metadata": {},
   "outputs": [
    {
     "data": {
      "text/plain": [
       "[0, 1, 3, 5, 7, 9]"
      ]
     },
     "execution_count": 35,
     "metadata": {},
     "output_type": "execute_result"
    }
   ],
   "source": [
    "sorted(L)"
   ]
  },
  {
   "cell_type": "markdown",
   "metadata": {},
   "source": [
    "Если нужна сортировка по убыванию, добавим аргумент `reverse = True`:"
   ]
  },
  {
   "cell_type": "code",
   "execution_count": 36,
   "metadata": {},
   "outputs": [
    {
     "data": {
      "text/plain": [
       "[9, 7, 5, 3, 1, 0]"
      ]
     },
     "execution_count": 36,
     "metadata": {},
     "output_type": "execute_result"
    }
   ],
   "source": [
    "sorted(L, reverse = True)"
   ]
  },
  {
   "cell_type": "markdown",
   "metadata": {},
   "source": [
    "Сам список `L` при этом никак не изменится, функция `sorted()` возвращает измененную копию (ее можем через `=` сохранить в переменную при необходимости):"
   ]
  },
  {
   "cell_type": "code",
   "execution_count": 37,
   "metadata": {},
   "outputs": [
    {
     "name": "stdout",
     "output_type": "stream",
     "text": [
      "[1, 3, 7, 9, 5, 0]\n"
     ]
    }
   ],
   "source": [
    "print(L)"
   ]
  },
  {
   "cell_type": "markdown",
   "metadata": {},
   "source": [
    "Теперь рассмотрим более сложный пример сортировки. Пусть есть список пар `R`:"
   ]
  },
  {
   "cell_type": "code",
   "execution_count": 38,
   "metadata": {},
   "outputs": [],
   "source": [
    "R = [(2, 0), (3, 1), (1, 5), (6, 7), (0, -1)]"
   ]
  },
  {
   "cell_type": "markdown",
   "metadata": {},
   "source": [
    "Все пары состоят из чисел, сортировка точно возможна. Применим функцию `sorted()`:"
   ]
  },
  {
   "cell_type": "code",
   "execution_count": 39,
   "metadata": {},
   "outputs": [
    {
     "data": {
      "text/plain": [
       "[(0, -1), (1, 5), (2, 0), (3, 1), (6, 7)]"
      ]
     },
     "execution_count": 39,
     "metadata": {},
     "output_type": "execute_result"
    }
   ],
   "source": [
    "sorted(R)"
   ]
  },
  {
   "cell_type": "markdown",
   "metadata": {},
   "source": [
    "Что произошло? По умолчанию Python отсортировал все пары по первому элементу – сначала идет пара с 0 на первом месте, затем – с 1, и так далее. \n",
    "\n",
    "Если мы хотим отсортировать по второму элементу, нам нужно задать правило (ключ) сортировки в аргументе `key`: "
   ]
  },
  {
   "cell_type": "code",
   "execution_count": 40,
   "metadata": {},
   "outputs": [
    {
     "data": {
      "text/plain": [
       "[(0, -1), (2, 0), (3, 1), (1, 5), (6, 7)]"
      ]
     },
     "execution_count": 40,
     "metadata": {},
     "output_type": "execute_result"
    }
   ],
   "source": [
    "sorted(R, key = lambda x: x[1])"
   ]
  },
  {
   "cell_type": "markdown",
   "metadata": {},
   "source": [
    "Что означает запись `lambda x: x[1]`? На самом деле, здесь мы создаем анонимную функцию, которая принимает на вход пару элементов, а на выходе возвращает второй элемент пары. Что это функция, Python понимает по ключевому слову `lambda`, а описание функции мы задаем через `x`, часть до двоеточия – что на входе, часть после двоеточия – что на выходе. Вместо `x` могли выбрать любое название, как в циклах:"
   ]
  },
  {
   "cell_type": "code",
   "execution_count": 41,
   "metadata": {},
   "outputs": [
    {
     "data": {
      "text/plain": [
       "[(0, -1), (2, 0), (3, 1), (1, 5), (6, 7)]"
      ]
     },
     "execution_count": 41,
     "metadata": {},
     "output_type": "execute_result"
    }
   ],
   "source": [
    "sorted(R, key = lambda y: y[1])"
   ]
  },
  {
   "cell_type": "markdown",
   "metadata": {},
   "source": [
    "Что удобно, одним выбором не-первых элементов функции в `key` не ограничиваются. Можно, например, выполнить сортировку по убыванию суммы элементов в паре:"
   ]
  },
  {
   "cell_type": "code",
   "execution_count": 42,
   "metadata": {},
   "outputs": [
    {
     "data": {
      "text/plain": [
       "[(6, 7), (1, 5), (3, 1), (2, 0), (0, -1)]"
      ]
     },
     "execution_count": 42,
     "metadata": {},
     "output_type": "execute_result"
    }
   ],
   "source": [
    "sorted(R, key = lambda x: sum(x), reverse = True)"
   ]
  },
  {
   "cell_type": "markdown",
   "metadata": {},
   "source": [
    "Или выполнить сортировку по модулю второго элемента в паре:"
   ]
  },
  {
   "cell_type": "code",
   "execution_count": 43,
   "metadata": {},
   "outputs": [
    {
     "data": {
      "text/plain": [
       "[(2, 0), (3, 1), (0, -1), (1, 5), (6, 7)]"
      ]
     },
     "execution_count": 43,
     "metadata": {},
     "output_type": "execute_result"
    }
   ],
   "source": [
    "sorted(R, key = lambda x: abs(x[1]))"
   ]
  },
  {
   "cell_type": "markdown",
   "metadata": {},
   "source": [
    "Или сортировку по произведению элементов в паре:"
   ]
  },
  {
   "cell_type": "code",
   "execution_count": 44,
   "metadata": {},
   "outputs": [
    {
     "data": {
      "text/plain": [
       "[(2, 0), (0, -1), (3, 1), (1, 5), (6, 7)]"
      ]
     },
     "execution_count": 44,
     "metadata": {},
     "output_type": "execute_result"
    }
   ],
   "source": [
    "sorted(R, key = lambda x: x[0] * x[1])"
   ]
  }
 ],
 "metadata": {
  "kernelspec": {
   "display_name": "Python 3",
   "language": "python",
   "name": "python3"
  },
  "language_info": {
   "codemirror_mode": {
    "name": "ipython",
    "version": 3
   },
   "file_extension": ".py",
   "mimetype": "text/x-python",
   "name": "python",
   "nbconvert_exporter": "python",
   "pygments_lexer": "ipython3",
   "version": "3.7.4"
  }
 },
 "nbformat": 4,
 "nbformat_minor": 2
}
