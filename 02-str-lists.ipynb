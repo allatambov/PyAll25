{
 "cells": [
  {
   "cell_type": "markdown",
   "metadata": {},
   "source": [
    "# Программирование для всех (основы Python)\n",
    "\n",
    "*Алла Тамбовцева, НИУ ВШЭ*\n",
    "\n",
    "*Данный ноутбук частично основан на [лекции](https://github.com/ischurov/pythonhse) Щурова И.В., курс «Программирование на языке Python для сбора и анализа данных» (НИУ ВШЭ).*\n",
    "\n",
    "## Индексируемые структуры: строки и списки, методы `.split()` и `.join()`\n",
    "\n",
    "* Индексируемые и неиндексируемые структуры, изменяемость и неизменяемость\n",
    "* Функции и методы, примеры методов на строках\n",
    "* Списки и примеры методы на списках\n",
    "* Объединяем строки и списки: методы `.split()` и `.join()`"
   ]
  },
  {
   "cell_type": "markdown",
   "metadata": {},
   "source": [
    "### Типы объектов в Python\n",
    "\n",
    "В предыдущей лекции мы познакомились с объектами базовых типов в Python:\n",
    "    \n",
    "* тип `integer`, сокращается до `int`, целые числа;\n",
    "* тип `float`, от *floating point numbers*, числа с плавающей точкой – дробные или вещественные числа;\n",
    "* тип `boolean`, сокращается до `bool`, логические значения `True` и `False`;\n",
    "* тип `string`, сокращается до `str`, текстовые строки.\n",
    "\n",
    "Объекты первых трёх типов являются атомарными – не делятся на части, однако в Python существуют и составные объекты. Посмотрим на пример составного объекта – строковой переменной с текстом внутри:"
   ]
  },
  {
   "cell_type": "code",
   "execution_count": 1,
   "metadata": {},
   "outputs": [],
   "source": [
    "text = \"Python will help you, belive\""
   ]
  },
  {
   "cell_type": "markdown",
   "metadata": {},
   "source": [
    "На текст можно смотреть как на **последовательность** символов, как на упорядоченный набор значений. Другими словами, строка – это **индексируемая** структура данных в Python – структура, элемент которой можно выбрать по порядковому номеру или **индексу**. В стандартной библиотеке Python к индексируемым структурам относятся следующие типы:\n",
    "\n",
    "* строки (тип `string`);\n",
    "* кортежи (тип `tuple`);\n",
    "* списки (тип `list`).\n",
    "\n",
    "Число элементов в любом таком объекте можно узнать, запросив **длину** последовательности через функцию `len()`:"
   ]
  },
  {
   "cell_type": "code",
   "execution_count": 2,
   "metadata": {},
   "outputs": [
    {
     "name": "stdout",
     "output_type": "stream",
     "text": [
      "28\n"
     ]
    }
   ],
   "source": [
    "print(len(text))"
   ]
  },
  {
   "cell_type": "markdown",
   "metadata": {},
   "source": [
    "Из последовательности можно выбирать символы по их индексу (указывается в квадратных скобках). Всё довольно интуитивно, однако стоит учесть, что в Python, как в большинстве языков программирования, нумерация начинается с нуля:"
   ]
  },
  {
   "cell_type": "code",
   "execution_count": 3,
   "metadata": {},
   "outputs": [
    {
     "name": "stdout",
     "output_type": "stream",
     "text": [
      "P\n",
      "t\n"
     ]
    }
   ],
   "source": [
    "print(text[0]) # 1-ый элемент\n",
    "print(text[2]) # 3-ий элемент"
   ]
  },
  {
   "cell_type": "markdown",
   "metadata": {},
   "source": [
    "Что удобно – элементы можно отсчитывать и с конца, тогда индекс будет отрицательным:"
   ]
  },
  {
   "cell_type": "code",
   "execution_count": 4,
   "metadata": {},
   "outputs": [
    {
     "name": "stdout",
     "output_type": "stream",
     "text": [
      "e\n",
      "i\n"
     ]
    }
   ],
   "source": [
    "print(text[-1]) # последний элемент\n",
    "print(text[-3]) # 3-ий элемент с конца"
   ]
  },
  {
   "cell_type": "markdown",
   "metadata": {},
   "source": [
    "Если мы укажем некорректный индекс – слишком большое число, мы получим ошибку индекса, исключение `IndexError`:"
   ]
  },
  {
   "cell_type": "code",
   "execution_count": 5,
   "metadata": {},
   "outputs": [
    {
     "ename": "IndexError",
     "evalue": "string index out of range",
     "output_type": "error",
     "traceback": [
      "\u001b[0;31m---------------------------------------------------------------------------\u001b[0m",
      "\u001b[0;31mIndexError\u001b[0m                                Traceback (most recent call last)",
      "\u001b[0;32m<ipython-input-5-20a052d725ab>\u001b[0m in \u001b[0;36m<module>\u001b[0;34m\u001b[0m\n\u001b[0;32m----> 1\u001b[0;31m \u001b[0mprint\u001b[0m\u001b[0;34m(\u001b[0m\u001b[0mtext\u001b[0m\u001b[0;34m[\u001b[0m\u001b[0;36m30\u001b[0m\u001b[0;34m]\u001b[0m\u001b[0;34m)\u001b[0m\u001b[0;34m\u001b[0m\u001b[0;34m\u001b[0m\u001b[0m\n\u001b[0m",
      "\u001b[0;31mIndexError\u001b[0m: string index out of range"
     ]
    }
   ],
   "source": [
    "print(text[30])"
   ]
  },
  {
   "cell_type": "markdown",
   "metadata": {},
   "source": [
    "А если индекс будет некорректного типа, например, дробный, а не целочисленный – ошибку `TypeError`:"
   ]
  },
  {
   "cell_type": "code",
   "execution_count": 6,
   "metadata": {},
   "outputs": [
    {
     "ename": "TypeError",
     "evalue": "string indices must be integers",
     "output_type": "error",
     "traceback": [
      "\u001b[0;31m---------------------------------------------------------------------------\u001b[0m",
      "\u001b[0;31mTypeError\u001b[0m                                 Traceback (most recent call last)",
      "\u001b[0;32m<ipython-input-6-dda2e18d8fc4>\u001b[0m in \u001b[0;36m<module>\u001b[0;34m\u001b[0m\n\u001b[0;32m----> 1\u001b[0;31m \u001b[0mprint\u001b[0m\u001b[0;34m(\u001b[0m\u001b[0mtext\u001b[0m\u001b[0;34m[\u001b[0m\u001b[0;36m5.5\u001b[0m\u001b[0;34m]\u001b[0m\u001b[0;34m)\u001b[0m\u001b[0;34m\u001b[0m\u001b[0;34m\u001b[0m\u001b[0m\n\u001b[0m",
      "\u001b[0;31mTypeError\u001b[0m: string indices must be integers"
     ]
    }
   ],
   "source": [
    "print(text[5.5])"
   ]
  },
  {
   "cell_type": "markdown",
   "metadata": {},
   "source": [
    "Кроме того, можно осуществлять выбор сразу нескольких элементов, если они стоят подряд. Для этого используются **срезы** (они же *slices*), два индекса указываются через двоеточие, левая граница указанного интервала включается в выбор, а правая – нет:"
   ]
  },
  {
   "cell_type": "code",
   "execution_count": 7,
   "metadata": {},
   "outputs": [
    {
     "name": "stdout",
     "output_type": "stream",
     "text": [
      "help\n"
     ]
    }
   ],
   "source": [
    "print(text[12:16]) # элементы 12, 13, 14, 15"
   ]
  },
  {
   "cell_type": "markdown",
   "metadata": {},
   "source": [
    "Если указать только левую границу, будут выбраны все элементы до конца:"
   ]
  },
  {
   "cell_type": "code",
   "execution_count": 8,
   "metadata": {},
   "outputs": [
    {
     "name": "stdout",
     "output_type": "stream",
     "text": [
      "belive\n"
     ]
    }
   ],
   "source": [
    "print(text[22:])"
   ]
  },
  {
   "cell_type": "markdown",
   "metadata": {},
   "source": [
    "А если только правую – все элементы с начала:"
   ]
  },
  {
   "cell_type": "code",
   "execution_count": 9,
   "metadata": {},
   "outputs": [
    {
     "name": "stdout",
     "output_type": "stream",
     "text": [
      "Python \n"
     ]
    }
   ],
   "source": [
    "print(text[:7])"
   ]
  },
  {
   "cell_type": "markdown",
   "metadata": {},
   "source": [
    "Если проигнорировать обе границы, будут выбраны все элементы:"
   ]
  },
  {
   "cell_type": "code",
   "execution_count": 10,
   "metadata": {},
   "outputs": [
    {
     "name": "stdout",
     "output_type": "stream",
     "text": [
      "Python will help you, belive\n"
     ]
    }
   ],
   "source": [
    "print(text[:])"
   ]
  },
  {
   "cell_type": "markdown",
   "metadata": {},
   "source": [
    "Строки – не единственные последовательности в Python, и, конечно, чаще мы будем работать не с текстами, а с наборами числовых значений. Однако все последовательности устроены одинаково, понимая, как осуществляется выбор элементов на строках, легко будет освоить работу с числовыми массивами и таблицами."
   ]
  },
  {
   "cell_type": "markdown",
   "metadata": {},
   "source": [
    "### Функции и методы\n",
    "\n",
    "Рассмотрим на примере строк ещё один ключевой момент, который позволит понимать дальнейшие конструкции в коде, а именно – различие между функциями и методами. До настоящего момента мы сталкивались только с функциями. Как мы уже убедились, функция – команда, которая принимает на вход какой-то агрумент и производит с ним определённую операцию. А что такое метод? **Метод** – функция, определённая на объектах фиксированного типа. Разберёмся с этим на примерах. \n",
    "\n",
    "Итак, у нас была функция `print()`. Она совершенно «всеядная», она принимает на вход объекты совершенно разных типов, объединяет их в одну строку и выводит её на экран:"
   ]
  },
  {
   "cell_type": "code",
   "execution_count": 11,
   "metadata": {},
   "outputs": [
    {
     "name": "stdout",
     "output_type": "stream",
     "text": [
      "Hello! 2.5 + 4.5 = 7 True or False\n"
     ]
    }
   ],
   "source": [
    "# типы str, float, int и boolean\n",
    "\n",
    "print(\"Hello!\", 2.5, \"+\", 4.5, \"=\", 7, True, \"or\", False)"
   ]
  },
  {
   "cell_type": "markdown",
   "metadata": {},
   "source": [
    "Функция `len()` для определения длины последовательности – тоже вполне универсальная. Мы пока не рассматривали другие последовательности, но можно проверить, что она вычисляет длину у разных объектов:"
   ]
  },
  {
   "cell_type": "code",
   "execution_count": 12,
   "metadata": {},
   "outputs": [
    {
     "name": "stdout",
     "output_type": "stream",
     "text": [
      "3\n",
      "4\n",
      "2\n"
     ]
    }
   ],
   "source": [
    "print(len(\"abc\")) # строка\n",
    "print(len([1, 3, 7, 8])) # список – перечень в квадратных скобках\n",
    "print(len((5, 0))) # кортеж – перечень в круглых скобках"
   ]
  },
  {
   "cell_type": "markdown",
   "metadata": {},
   "source": [
    "А вот методы у каждого типа данных свои. У строк будет свой набор методов, у списков – свой, у таблиц – тоже, и так далее. Это выглядит вполне логично – операции, которые производятся с текстом (сделать буквы заглавными, разбить текст на части и подобное), не подходят для чисел или таблиц. В отличие от функций, методы пишутся не перед объектом, а после него через точку. Рассмотрим примеры некоторых методов на строках, используя переменную `text`: "
   ]
  },
  {
   "cell_type": "code",
   "execution_count": 13,
   "metadata": {},
   "outputs": [
    {
     "name": "stdout",
     "output_type": "stream",
     "text": [
      "PYTHON WILL HELP YOU, BELIVE\n",
      "python will help you, belive\n",
      "False\n"
     ]
    }
   ],
   "source": [
    "# метод .upper() делает все буквы заглавными\n",
    "# метод .lower() делает все буквы строчными\n",
    "# метод .isalnum() проверяет, все ли символы являются буквами или цифрами\n",
    "\n",
    "print(text.upper())\n",
    "print(text.lower())\n",
    "print(text.isalnum())"
   ]
  },
  {
   "cell_type": "markdown",
   "metadata": {},
   "source": [
    "Как и функции (методы – тоже функции), методы могут принимать на вход аргументы:"
   ]
  },
  {
   "cell_type": "code",
   "execution_count": 1,
   "metadata": {},
   "outputs": [
    {
     "ename": "NameError",
     "evalue": "name 'text' is not defined",
     "output_type": "error",
     "traceback": [
      "\u001b[0;31m---------------------------------------------------------------------------\u001b[0m",
      "\u001b[0;31mNameError\u001b[0m                                 Traceback (most recent call last)",
      "\u001b[0;32m<ipython-input-1-f293820551f0>\u001b[0m in \u001b[0;36m<module>\u001b[0;34m\u001b[0m\n\u001b[0;32m----> 1\u001b[0;31m \u001b[0mprint\u001b[0m\u001b[0;34m(\u001b[0m\u001b[0mtext\u001b[0m\u001b[0;34m.\u001b[0m\u001b[0mstartswith\u001b[0m\u001b[0;34m(\u001b[0m\u001b[0;34m\"Python\"\u001b[0m\u001b[0;34m)\u001b[0m\u001b[0;34m)\u001b[0m\u001b[0;34m\u001b[0m\u001b[0;34m\u001b[0m\u001b[0m\n\u001b[0m\u001b[1;32m      2\u001b[0m \u001b[0mprint\u001b[0m\u001b[0;34m(\u001b[0m\u001b[0mtext\u001b[0m\u001b[0;34m.\u001b[0m\u001b[0mendswith\u001b[0m\u001b[0;34m(\u001b[0m\u001b[0;34m\"!\"\u001b[0m\u001b[0;34m)\u001b[0m\u001b[0;34m)\u001b[0m\u001b[0;34m\u001b[0m\u001b[0;34m\u001b[0m\u001b[0m\n",
      "\u001b[0;31mNameError\u001b[0m: name 'text' is not defined"
     ]
    }
   ],
   "source": [
    "print(text.startswith(\"Python\"))\n",
    "print(text.endswith(\"!\"))"
   ]
  },
  {
   "cell_type": "markdown",
   "metadata": {},
   "source": [
    "Чтобы узнать, какие ещё методы есть, в Jupyter Notebook после названия переменной можно поставить точку и нажать на клавиатуре *Tab* (в Google Colab – подождать или нажать на стрелку вниз). А документацию по конкретному методу можно запросить через `help()`:"
   ]
  },
  {
   "cell_type": "code",
   "execution_count": 16,
   "metadata": {},
   "outputs": [
    {
     "name": "stdout",
     "output_type": "stream",
     "text": [
      "Help on built-in function replace:\n",
      "\n",
      "replace(old, new, count=-1, /) method of builtins.str instance\n",
      "    Return a copy with all occurrences of substring old replaced by new.\n",
      "    \n",
      "      count\n",
      "        Maximum number of occurrences to replace.\n",
      "        -1 (the default value) means replace all occurrences.\n",
      "    \n",
      "    If the optional argument count is given, only the first count occurrences are\n",
      "    replaced.\n",
      "\n"
     ]
    }
   ],
   "source": [
    "help(text.replace)"
   ]
  },
  {
   "cell_type": "markdown",
   "metadata": {},
   "source": [
    "Грех не воспользоваться этим методом:"
   ]
  },
  {
   "cell_type": "code",
   "execution_count": 17,
   "metadata": {},
   "outputs": [
    {
     "data": {
      "text/plain": [
       "'Python will kill you, belive'"
      ]
     },
     "execution_count": 17,
     "metadata": {},
     "output_type": "execute_result"
    }
   ],
   "source": [
    "text.replace(\"help\", \"kill\")"
   ]
  },
  {
   "cell_type": "markdown",
   "metadata": {},
   "source": [
    "И последний важный момент, который будет актуален не только для строк. Выше мы много чего проделали со строкой `text`. Давайте посмотрим на неё:"
   ]
  },
  {
   "cell_type": "code",
   "execution_count": 18,
   "metadata": {},
   "outputs": [
    {
     "name": "stdout",
     "output_type": "stream",
     "text": [
      "Python will help you, belive\n"
     ]
    }
   ],
   "source": [
    "print(text)"
   ]
  },
  {
   "cell_type": "markdown",
   "metadata": {},
   "source": [
    "Ничего в строке `text` не изменилось, хотя мы изменили регистр (строчные/заглавные) и даже разбивали её. Это объясняется тем, что строки – **неизменяемый тип**. А значит, методы возвращают изменённую копию строки, а не вносят в неё изменения «как есть». Это во многом удобно, так как защищает данные от случайных изменений. Чтобы сохранить изменения, строку нужно будет перезаписать через `=`:"
   ]
  },
  {
   "cell_type": "code",
   "execution_count": 19,
   "metadata": {},
   "outputs": [
    {
     "name": "stdout",
     "output_type": "stream",
     "text": [
      "PYTHON WILL HELP YOU, BELIVE\n"
     ]
    }
   ],
   "source": [
    "text = text.upper()\n",
    "print(text)"
   ]
  },
  {
   "cell_type": "markdown",
   "metadata": {},
   "source": [
    "Итак, объекты разных типов могут быть **изменяемыми** (англ. *mutable*) и **неизменяемыми** (англ. *immutable*), плюс, даже если объект изменяемый, какие-то методы будут его «молча» изменять, какие-то – возвращать изменённую копию и менять оригинал, а какие-то – изменять тогда, мы пропишем это в специальном аргументе. Понимание этих особенностей помогут нам в дальнейшем при работе с таблицами, так как нам нужно будет решать, например, сохранить результат сортировки в данных, удалить ли строки с пропусками насовсем и проч."
   ]
  },
  {
   "cell_type": "markdown",
   "metadata": {},
   "source": [
    "В рамках этой лекции мы не будем рассматривать все типы объектов, но отметим на будущее, какие из базовых типов изменяемые, а какие – нет.\n",
    "\n",
    "Изменяемые:\n",
    "\n",
    "* тип `list` (список);\n",
    "* тип `set` (множество);\n",
    "* тип `dict` (словарь).\n",
    "\n",
    "Неизменяемые:\n",
    "\n",
    "* типы `int`, `float`, `bool`, `str`;\n",
    "* тип `tuple` (кортеж)."
   ]
  },
  {
   "cell_type": "markdown",
   "metadata": {},
   "source": [
    "### Списки\n",
    "\n",
    "Создадим список `age` из значений возраста респондентов. Элементы списка перечисляются в квадратных скобках через запятую:"
   ]
  },
  {
   "cell_type": "code",
   "execution_count": 26,
   "metadata": {},
   "outputs": [
    {
     "name": "stdout",
     "output_type": "stream",
     "text": [
      "[25, 35, 48, 20]\n"
     ]
    }
   ],
   "source": [
    "age = [25, 35, 48, 20]\n",
    "print(age)"
   ]
  },
  {
   "cell_type": "markdown",
   "metadata": {},
   "source": [
    "Список, как и кортеж, может хранить элементы любого типа, необязательно числового. Например, мы можем создать список имён `name`, полностью состоящий из строк:"
   ]
  },
  {
   "cell_type": "code",
   "execution_count": 27,
   "metadata": {},
   "outputs": [
    {
     "name": "stdout",
     "output_type": "stream",
     "text": [
      "['Ann', 'Nick', 'Ben', 'George', 'James']\n"
     ]
    }
   ],
   "source": [
    "name = [\"Ann\", \"Nick\", \"Ben\", \"George\", \"James\"]\n",
    "print(name)"
   ]
  },
  {
   "cell_type": "markdown",
   "metadata": {},
   "source": [
    "А можем создать список, состоящий из элементов разных типов. Представим, что не очень сознательный исследователь закодировал пропущенные значения в списке текстом, написав «нет ответа»:"
   ]
  },
  {
   "cell_type": "code",
   "execution_count": 28,
   "metadata": {},
   "outputs": [
    {
     "name": "stdout",
     "output_type": "stream",
     "text": [
      "[23, 25, 'нет ответа', 32]\n"
     ]
    }
   ],
   "source": [
    "mixed = [23, 25, \"нет ответа\", 32]\n",
    "print(mixed)"
   ]
  },
  {
   "cell_type": "markdown",
   "metadata": {},
   "source": [
    "Элементы разных типов спокойно уживаются в списке: Python не меняет тип элементов. Все элементы, которые являются строками, останутся строками, а числа – числами. Список может иметь более сложную структуру, например, представлять собой список списков:"
   ]
  },
  {
   "cell_type": "code",
   "execution_count": 29,
   "metadata": {},
   "outputs": [
    {
     "name": "stdout",
     "output_type": "stream",
     "text": [
      "[[1, 2, 3], [4, 5]]\n"
     ]
    }
   ],
   "source": [
    "L = [[1, 2, 3], [4, 5]]\n",
    "print(L)"
   ]
  },
  {
   "cell_type": "markdown",
   "metadata": {},
   "source": [
    "Как и в случае со строками, у списка можно определить длину:"
   ]
  },
  {
   "cell_type": "code",
   "execution_count": 30,
   "metadata": {},
   "outputs": [
    {
     "name": "stdout",
     "output_type": "stream",
     "text": [
      "4\n"
     ]
    }
   ],
   "source": [
    "print(len(age))"
   ]
  },
  {
   "cell_type": "markdown",
   "metadata": {},
   "source": [
    "Или выбирать элементы по индексам или через срезы:"
   ]
  },
  {
   "cell_type": "code",
   "execution_count": 31,
   "metadata": {},
   "outputs": [
    {
     "name": "stdout",
     "output_type": "stream",
     "text": [
      "25\n",
      "[35, 48, 20]\n"
     ]
    }
   ],
   "source": [
    "print(age[0])\n",
    "print(age[1:4])"
   ]
  },
  {
   "cell_type": "markdown",
   "metadata": {},
   "source": [
    "Раз список – изменяемая структура, мы можем обращаться к уже существующему списку, выбирать в нём элемент и заменять его, не перезаписывая весь список «с нуля». Например, заменим последний элемент списка `age` на число 30:"
   ]
  },
  {
   "cell_type": "code",
   "execution_count": 32,
   "metadata": {},
   "outputs": [
    {
     "name": "stdout",
     "output_type": "stream",
     "text": [
      "[25, 35, 48, 30]\n"
     ]
    }
   ],
   "source": [
    "age[-1] = 30\n",
    "print(age) "
   ]
  },
  {
   "cell_type": "markdown",
   "metadata": {},
   "source": [
    "А ещё можно дописывать элементы в конец списка. Для этого существует два метода: `.append()` и `.extend()`. Метод `.append()` используется для присоединения одного элемента, `.extend()` – для добавления целого списка."
   ]
  },
  {
   "cell_type": "code",
   "execution_count": 33,
   "metadata": {},
   "outputs": [
    {
     "name": "stdout",
     "output_type": "stream",
     "text": [
      "[25, 35, 48, 30, 27]\n"
     ]
    }
   ],
   "source": [
    "age.append(27) # добавили 27\n",
    "print(age)"
   ]
  },
  {
   "cell_type": "code",
   "execution_count": 34,
   "metadata": {},
   "outputs": [
    {
     "name": "stdout",
     "output_type": "stream",
     "text": [
      "[25, 35, 48, 30, 27, 43, 33]\n"
     ]
    }
   ],
   "source": [
    "age.extend([43, 33]) # добавили 43 и 33\n",
    "print(age)"
   ]
  },
  {
   "cell_type": "markdown",
   "metadata": {},
   "source": [
    "Важный момент: методы `.append()` и `.extend()`, да и почти все методы, которые затрагивают исходный список, «молча» вносят изменения в сам список, а не возвращают его обновлённую копию. Возвращают они пустое значение `None`, поэтому использовать одновременно, например, `.append()` и `=` для изменения списка – ошибочное решение:"
   ]
  },
  {
   "cell_type": "code",
   "execution_count": 35,
   "metadata": {},
   "outputs": [
    {
     "name": "stdout",
     "output_type": "stream",
     "text": [
      "None\n"
     ]
    }
   ],
   "source": [
    "# якобы добавляем 90 и сохраняем обновленный список в age2\n",
    "\n",
    "age2 = age.append(90)\n",
    "print(age2) # но нет"
   ]
  },
  {
   "cell_type": "markdown",
   "metadata": {},
   "source": [
    "Методы `.append()` и `.extend()` приписывают значения только в конец списка. Для добавления элементов в любое другое место существует метод `.insert()`, он «втискивает» элемент на место с указанным индексом:"
   ]
  },
  {
   "cell_type": "code",
   "execution_count": 36,
   "metadata": {},
   "outputs": [
    {
     "name": "stdout",
     "output_type": "stream",
     "text": [
      "[25, 35, 48, 29, 30, 27, 43, 33, 90]\n"
     ]
    }
   ],
   "source": [
    "# добавили 29 четвертым элементом (индекс 3)\n",
    "\n",
    "age.insert(3, 29)\n",
    "print(age)"
   ]
  },
  {
   "cell_type": "markdown",
   "metadata": {},
   "source": [
    "Также списки можно склеивать, то есть использовать операцию, которая называется **конкатенацией**. В этом смысле списки очень похожи и на строки, и на кортежи, и для их конкатенации также используется знак `+` (история про перегрузку операторов, когда одни и те же операторы выполняют разные операции на разных типах, мы уже такое обсуждали):"
   ]
  },
  {
   "cell_type": "code",
   "execution_count": 37,
   "metadata": {},
   "outputs": [
    {
     "name": "stdout",
     "output_type": "stream",
     "text": [
      "[4, 5, 6, 7, 8, 9]\n"
     ]
    }
   ],
   "source": [
    "L = [4, 5, 6] + [7, 8, 9]\n",
    "print(L)"
   ]
  },
  {
   "cell_type": "markdown",
   "metadata": {},
   "source": [
    "Запись через `+` кажется очень интуитивной и заманчивой, но не стоит ей часто пользоваться, когда списки очень большие и их много. При такой конкатенации списков происходит создание нового списка, который «склеивается» из отдельных частей, чего не происходит при использовании `.extend()`: там элементы просто дописываются в уже существующий список. Поэтому приписывание одного списка в конец другого быстрее и эффективнее делать именно через `.extend()`."
   ]
  },
  {
   "cell_type": "markdown",
   "metadata": {},
   "source": [
    "На данный момент мы достаточно хорошо познакомились со списками. Но списки не так просты, как кажется. И это снова связано с тем, что список – изменяемый тип. Давайте попробуем сделать следующее: скопировать один список в другой путем присваивания."
   ]
  },
  {
   "cell_type": "code",
   "execution_count": 38,
   "metadata": {},
   "outputs": [
    {
     "name": "stdout",
     "output_type": "stream",
     "text": [
      "[25, 35, 48, 29, 30, 27, 43, 33, 90] [25, 35, 48, 29, 30, 27, 43, 33, 90]\n"
     ]
    }
   ],
   "source": [
    "age2 = age\n",
    "print(age, age2)"
   ]
  },
  {
   "cell_type": "markdown",
   "metadata": {},
   "source": [
    "Пока все ожидаемо. А теперь допишем в `age2` элемент 18:"
   ]
  },
  {
   "cell_type": "code",
   "execution_count": 39,
   "metadata": {},
   "outputs": [],
   "source": [
    "age2.append(18)"
   ]
  },
  {
   "cell_type": "markdown",
   "metadata": {},
   "source": [
    "И сравним оба списка:"
   ]
  },
  {
   "cell_type": "code",
   "execution_count": 40,
   "metadata": {},
   "outputs": [
    {
     "name": "stdout",
     "output_type": "stream",
     "text": [
      "[25, 35, 48, 29, 30, 27, 43, 33, 90, 18] [25, 35, 48, 29, 30, 27, 43, 33, 90, 18]\n"
     ]
    }
   ],
   "source": [
    "print(age, age2)"
   ]
  },
  {
   "cell_type": "markdown",
   "metadata": {},
   "source": [
    "Несмотря на то, что список `age` мы не трогали, он изменился точно так же, как и список `age2`! Что произошло? На самом деле, когда мы записали `age2 = age`, мы скопировали не сам список, а ссылку на него. Другими словами, проводя аналогию с папкой и ярлыком, вместо того, чтобы создать новую папку `age2` с элементами, такими же, как в `age`, мы создали ярлык `age2`, который сам по себе ничего не представляет, а просто ссылается на папку `age`.\n",
    "\n",
    "Так как же тогда копировать списки? Можно воспользоваться методом `.copy()`:"
   ]
  },
  {
   "cell_type": "code",
   "execution_count": 41,
   "metadata": {},
   "outputs": [
    {
     "name": "stdout",
     "output_type": "stream",
     "text": [
      "[25, 35, 48, 29, 30, 27, 43, 33, 90, 18]\n",
      "[25, 35, 48, 29, 30, 27, 43, 33, 90, 18, 18]\n"
     ]
    }
   ],
   "source": [
    "age2 = age.copy() \n",
    "age2.append(18)\n",
    "\n",
    "print(age)\n",
    "print(age2)"
   ]
  },
  {
   "cell_type": "markdown",
   "metadata": {},
   "source": [
    "Проследить разницу в пошаговом исполнении кода можно в [визуализаторе](https://pythontutor.com/visualize.html) кода от Pythontutor."
   ]
  },
  {
   "cell_type": "markdown",
   "metadata": {},
   "source": [
    "### Объединяем строки и списки: методы `.split()` и `.join()`"
   ]
  },
  {
   "cell_type": "markdown",
   "metadata": {},
   "source": [
    "Одни из самых распространённых методов на строках – методы `split()` и `.join()`. Первый нужен для того, чтобы разбивать строку на части, а второй – чтобы, напротив, склеивать перечень строк в одну большую строку. Допустим, у нас есть строка с текстом и мы хотим разбить его на слова. Применим метод `.split()`:"
   ]
  },
  {
   "cell_type": "code",
   "execution_count": 1,
   "metadata": {},
   "outputs": [
    {
     "data": {
      "text/plain": [
       "['1', '2', '3']"
      ]
     },
     "execution_count": 1,
     "metadata": {},
     "output_type": "execute_result"
    }
   ],
   "source": [
    "s = \"1 2 3\"\n",
    "s.split()"
   ]
  },
  {
   "cell_type": "markdown",
   "metadata": {},
   "source": [
    "По умолчанию `.split()` разбивает строку по пробелу и возвращает список, состоящий из частей строки. Но в качестве разделителя можно указать любой набор символов:"
   ]
  },
  {
   "cell_type": "code",
   "execution_count": 2,
   "metadata": {},
   "outputs": [
    {
     "data": {
      "text/plain": [
       "['01', '02', '2023']"
      ]
     },
     "execution_count": 2,
     "metadata": {},
     "output_type": "execute_result"
    }
   ],
   "source": [
    "date = \"01-02-2023\"\n",
    "date.split(\"-\")"
   ]
  },
  {
   "cell_type": "markdown",
   "metadata": {},
   "source": [
    "Метод `.split()` удобно сочетать с функцией `input()`, если мы знаем, что пользователь должен вводить с клавиатуры несколько элементов:"
   ]
  },
  {
   "cell_type": "code",
   "execution_count": 3,
   "metadata": {},
   "outputs": [
    {
     "name": "stdout",
     "output_type": "stream",
     "text": [
      "20 30\n"
     ]
    },
    {
     "data": {
      "text/plain": [
       "['20', '30']"
      ]
     },
     "execution_count": 3,
     "metadata": {},
     "output_type": "execute_result"
    }
   ],
   "source": [
    "inp = input().split()\n",
    "inp"
   ]
  },
  {
   "cell_type": "markdown",
   "metadata": {},
   "source": [
    "Однако стоит учитывать, что метод `.split()` всегда возвращает список строк. Если мы захотим работать с результатами ввода как с числами, их необходимо будет преобразовать в соответствующий тип.  Проще всего это сделать через цикл или функцию `map()`, но её мы обсудим позже, поэтому пока мы можем просто извлечь из списка элементы по индексу и преобразовать их в числа по-отдельности. Вычислим сумму чисел, которые ввел пользователь (нумерация элементов в Python начинается с нуля, поэтому первый элемент – это нулевой, а второй – первый):"
   ]
  },
  {
   "cell_type": "code",
   "execution_count": 4,
   "metadata": {},
   "outputs": [
    {
     "data": {
      "text/plain": [
       "50"
      ]
     },
     "execution_count": 4,
     "metadata": {},
     "output_type": "execute_result"
    }
   ],
   "source": [
    "int(inp[0]) + int(inp[1])"
   ]
  },
  {
   "cell_type": "markdown",
   "metadata": {},
   "source": [
    "Метод `.join()` производит обратную операцию – конкатенацию строк. Он склеивает перечень строк в одну строку. Метод применяется к строке – разделителю, который мы будем использовать при склеивании, а в качестве аргумента указывается перечень строк (список или кортеж)."
   ]
  },
  {
   "cell_type": "code",
   "execution_count": 5,
   "metadata": {},
   "outputs": [
    {
     "name": "stdout",
     "output_type": "stream",
     "text": [
      "A-B-C\n"
     ]
    }
   ],
   "source": [
    "print(\"-\".join([\"A\", \"B\", \"C\"]))"
   ]
  },
  {
   "cell_type": "code",
   "execution_count": 6,
   "metadata": {},
   "outputs": [
    {
     "name": "stdout",
     "output_type": "stream",
     "text": [
      "A\n",
      "B\n",
      "C\n"
     ]
    }
   ],
   "source": [
    "print(\"\\n\".join([\"A\", \"B\", \"C\"]))  # \\n – переход на новую с"
   ]
  },
  {
   "cell_type": "code",
   "execution_count": 7,
   "metadata": {},
   "outputs": [
    {
     "name": "stdout",
     "output_type": "stream",
     "text": [
      "A\tB\tC\n"
     ]
    }
   ],
   "source": [
    "print(\"\\t\".join([\"A\", \"B\", \"C\"]))  # \\t – табуляция"
   ]
  }
 ],
 "metadata": {
  "kernelspec": {
   "display_name": "Python 3",
   "language": "python",
   "name": "python3"
  },
  "language_info": {
   "codemirror_mode": {
    "name": "ipython",
    "version": 3
   },
   "file_extension": ".py",
   "mimetype": "text/x-python",
   "name": "python",
   "nbconvert_exporter": "python",
   "pygments_lexer": "ipython3",
   "version": "3.7.4"
  }
 },
 "nbformat": 4,
 "nbformat_minor": 2
}
