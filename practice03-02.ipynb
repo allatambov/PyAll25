{
 "cells": [
  {
   "cell_type": "markdown",
   "metadata": {},
   "source": [
    "# Программирование для всех (основы работы с Python)\n",
    "\n",
    "*Алла Тамбовцева, НИУ ВШЭ*\n",
    "\n",
    "## Практикум 3.2: предварительная обработка текста и построение облака слов\n",
    "\n",
    "### Подготовка к работе\n",
    "\n",
    "В этом практикуме мы будем работать с текстом, в частности, построим на основе текста облако слов (*word cloud*), которое показывает, какие слова встречаются в тексте чаще, а какие – реже.\n",
    "\n",
    "Установим необходимые библиотеки:\n",
    "\n",
    "* библиотека `wordcloud` для построения облака слов ([тьюториал](https://www.datacamp.com/tutorial/wordcloud-python) по работе с библиотекой);\n",
    "* библиотека `pymorphy3` для морфологического анализа текстов, понадобится для приведения слов к начальной форме ([документация](https://pymorphy2.readthedocs.io/en/stable/))."
   ]
  },
  {
   "cell_type": "code",
   "execution_count": null,
   "metadata": {},
   "outputs": [],
   "source": [
    "!pip install --upgrade pip\n",
    "!pip install --upgrade wordcloud \n",
    "!pip install --upgrade pymorphy3"
   ]
  },
  {
   "cell_type": "markdown",
   "metadata": {},
   "source": [
    "Команда `pip install ...` используется для установки библиотек, к ней можно добавить опцию `--upgrade` на случай, если библиотека на компьютере уже установлена в более старой версии, а мы хотим её обновить. Символ `!` в начале строки сообщает Jupyter, что это особая операция, как будто бы запускаемая с командной строки или из терминала, а не код Python с соответствующим синтаксисом. Строка с установкой `pip` в самом начале нужна для обновления самого установщика `pip` (если версия установщика старая, логично, что он не все новые версии библиотек сможет корректно поставить).\n",
    "\n",
    "Импортируем библиотеки, чтобы убедиться, что всё установилось (для надёжности можно перезапустить ядро через *Kernel - Restart* и после импортировать):"
   ]
  },
  {
   "cell_type": "code",
   "execution_count": null,
   "metadata": {},
   "outputs": [],
   "source": [
    "import wordcloud\n",
    "import pymorphy3"
   ]
  },
  {
   "cell_type": "markdown",
   "metadata": {},
   "source": [
    "Также импортируем модуль `pyplot` с сокращённым названием `plt` из библиотеки `matplotlib` для отрисовки графиков:"
   ]
  },
  {
   "cell_type": "code",
   "execution_count": null,
   "metadata": {},
   "outputs": [],
   "source": [
    "from matplotlib import pyplot as plt"
   ]
  },
  {
   "cell_type": "markdown",
   "metadata": {},
   "source": [
    "Глобальная задача практикума – построить облако слов для текстов песен Владимира Высоцкого, сохраненных в txt-файле, и сделать его в форме гитары.\n",
    "\n",
    "Наши первые шаги:\n",
    "\n",
    "1. Скачать файл `songs.txt` и поместить его в рабочую папку Jupyter через *Upload*.\n",
    "2. Считать все строки в файле и сохранить их единым текстом – одной огромной строкой `text`."
   ]
  },
  {
   "cell_type": "code",
   "execution_count": null,
   "metadata": {},
   "outputs": [],
   "source": [
    "### YOUR CODE HERE ###"
   ]
  },
  {
   "cell_type": "markdown",
   "metadata": {},
   "source": [
    "### Задания"
   ]
  },
  {
   "cell_type": "markdown",
   "metadata": {},
   "source": [
    "### Задача 1\n",
    "\n",
    "Напишите программу, которая приводит текст, сохранённый в переменной `text`, к *нормальному виду*. Нормальный вид текста: текст состоит только из слов в начальной форме, записанных маленькими буквами через пробел, нет никаких посторонних символов.\n",
    "\n",
    "Алгоритм работы:\n",
    "\n",
    "1. Привести все буквы к нижнему регистру.\n",
    "2. Заменить все знаки препинания и цифры на пробелы.\n",
    "3. Разбить текст на слова и получить список слов. При необходимости избавиться от лишних пробелов в словах.\n",
    "4. Привести каждое слово в списке к начальной форме.\n",
    "5. Склеить все слова в начальной форме в одну строку с текстом.\n",
    "\n",
    "**Подсказка:** из модуля `punctuation` можно забрать строки со знаками пунктуации и цифрами."
   ]
  },
  {
   "cell_type": "code",
   "execution_count": null,
   "metadata": {},
   "outputs": [],
   "source": [
    "from string import punctuation, digits\n",
    "print(punctuation, digits)\n",
    "\n",
    "# еще \"–«»—…\""
   ]
  },
  {
   "cell_type": "code",
   "execution_count": null,
   "metadata": {},
   "outputs": [],
   "source": [
    "### YOUR CODE HERE ###"
   ]
  },
  {
   "cell_type": "markdown",
   "metadata": {},
   "source": [
    "### Задача 2\n",
    "\n",
    "Создайте список `stop_ru` из *стоп-слов* для русского языка для дальнейшей работы с текстом. Для этого скачайте файл `stopwords-ru.txt` и преобразуйте его содержимое.\n",
    "\n",
    "Стоп-слова – часто встречающиеся в языке слова вроде предлогов, союзов и местоимений, которые не несут большой смысловой нагрузки и которые обычно исключают при визуализации и частотном анализе текстов."
   ]
  },
  {
   "cell_type": "code",
   "execution_count": null,
   "metadata": {},
   "outputs": [],
   "source": [
    "file = open(\"stopwords-ru.txt\", encoding = \"UTF-8\")\n",
    "lines = file.readlines()"
   ]
  },
  {
   "cell_type": "code",
   "execution_count": null,
   "metadata": {},
   "outputs": [],
   "source": [
    "### YOUR CODE HERE ###"
   ]
  },
  {
   "cell_type": "markdown",
   "metadata": {},
   "source": [
    "### Задача 3\n",
    "\n",
    "С помощью библиотеки `wordcloud` постройте облако слов для текста, предварительно обработанного в задаче 1. Исключите при его построении стоп-слова. "
   ]
  },
  {
   "cell_type": "markdown",
   "metadata": {},
   "source": [
    "Построим облако слов с помощью `WordCloud()`. Импортируем эту фунцию отдельно, чтобы не таскать длинное название библиотеки за собой:"
   ]
  },
  {
   "cell_type": "code",
   "execution_count": null,
   "metadata": {},
   "outputs": [],
   "source": [
    "from wordcloud import WordCloud"
   ]
  },
  {
   "cell_type": "code",
   "execution_count": null,
   "metadata": {},
   "outputs": [],
   "source": [
    "wcloud = WordCloud(stopwords = stop_ru).generate(text_norm)\n",
    "\n",
    "plt.imshow(wcloud)\n",
    "plt.axis(\"off\")\n",
    "plt.show()"
   ]
  },
  {
   "cell_type": "markdown",
   "metadata": {},
   "source": [
    "Если выводятся странные ошибки, попробуйте установить более старую версию библиотеки `Pillow`, от неё зависят некоторые процедуры в wordcloud: `!pip install Pillow==9.5.0`."
   ]
  },
  {
   "cell_type": "code",
   "execution_count": null,
   "metadata": {},
   "outputs": [],
   "source": [
    "fig, ax = plt.subplots(figsize = (16, 9), dpi = 300)\n",
    "ax.imshow(wcloud)\n",
    "ax.axis(\"off\")"
   ]
  },
  {
   "cell_type": "code",
   "execution_count": null,
   "metadata": {},
   "outputs": [],
   "source": [
    "wcloud = WordCloud(stopwords = stop_ru, \n",
    "                  background_color = \"white\",\n",
    "                  width = 1600,\n",
    "                  height = 900).generate(text_norm)\n",
    "\n",
    "fig, ax = plt.subplots(figsize = (16, 9), dpi = 300)\n",
    "ax.imshow(wcloud)\n",
    "ax.axis(\"off\")\n",
    "\n",
    "# fig.savefig(\"wordcloud.png\")"
   ]
  },
  {
   "cell_type": "markdown",
   "metadata": {},
   "source": [
    "### Задача 4\n",
    "\n",
    "Используя изображение из файла `guitar.jpeg`, добавьте маску для облака слов, чтобы сделать его в форме гитары."
   ]
  },
  {
   "cell_type": "markdown",
   "metadata": {},
   "source": [
    "В качестве основы для облака слов можно взять изображение, это прекрасно описано в тьюториале [здесь](https://www.datacamp.com/tutorial/wordcloud-python). Мы возьмём векторное изображение с [Freepik](https://ru.freepik.com/). Импортируем набор функций для обработки изображения из библиотеки `PIL` (*Python Imaging Library*) и библиотеку `numpy`, чтобы потом преобразовать изображение в числовой массив:"
   ]
  },
  {
   "cell_type": "code",
   "execution_count": null,
   "metadata": {},
   "outputs": [],
   "source": [
    "from PIL import Image\n",
    "import numpy as np"
   ]
  },
  {
   "cell_type": "code",
   "execution_count": null,
   "metadata": {},
   "outputs": [],
   "source": [
    "my_mask = np.array(Image.open(\"guitar.jpeg\"))\n",
    "print(my_mask)"
   ]
  },
  {
   "cell_type": "code",
   "execution_count": null,
   "metadata": {},
   "outputs": [],
   "source": [
    "wcloud = WordCloud(stopwords = stop_ru, \n",
    "                  background_color = \"white\",\n",
    "                  mask = my_mask,\n",
    "                  colormap = \"magma\").generate(text_norm)\n",
    "\n",
    "fig, ax = plt.subplots(dpi = 300)\n",
    "ax.imshow(wcloud)\n",
    "ax.axis(\"off\")"
   ]
  },
  {
   "cell_type": "markdown",
   "metadata": {},
   "source": [
    "Про палитры в `matplotlib` можно почитать [здесь](https://matplotlib.org/stable/users/explain/colors/colormaps.html)."
   ]
  }
 ],
 "metadata": {
  "kernelspec": {
   "display_name": "Python 3",
   "language": "python",
   "name": "python3"
  },
  "language_info": {
   "codemirror_mode": {
    "name": "ipython",
    "version": 3
   },
   "file_extension": ".py",
   "mimetype": "text/x-python",
   "name": "python",
   "nbconvert_exporter": "python",
   "pygments_lexer": "ipython3",
   "version": "3.7.4"
  }
 },
 "nbformat": 4,
 "nbformat_minor": 2
}
