{
 "cells": [
  {
   "cell_type": "markdown",
   "metadata": {},
   "source": [
    "# Программирование для всех<br>(основы работы с Python)\n",
    "\n",
    "*Тамбовцева А.А.*\n",
    "\n",
    "## Практикум 5. Функции"
   ]
  },
  {
   "cell_type": "markdown",
   "metadata": {},
   "source": [
    "### Задача 1\n",
    "\n",
    "Напишите функцию `nums()`, которая принимает на вход целое число, а возвращает список из двух элементов: целое число, предшествующее принятому на вход, и число, следующее за ним.\n",
    "\n",
    "**Пример:**\n",
    "\n",
    "Входные данные:\n",
    "\n",
    "    7\n",
    "\n",
    "Выходные данные:\n",
    "\n",
    "    [6, 8]"
   ]
  },
  {
   "cell_type": "code",
   "execution_count": 1,
   "metadata": {},
   "outputs": [],
   "source": [
    "def nums(n):\n",
    "    return [n - 1, n + 1]"
   ]
  },
  {
   "cell_type": "code",
   "execution_count": 2,
   "metadata": {},
   "outputs": [
    {
     "data": {
      "text/plain": [
       "[8, 10]"
      ]
     },
     "execution_count": 2,
     "metadata": {},
     "output_type": "execute_result"
    }
   ],
   "source": [
    "nums(9)"
   ]
  },
  {
   "cell_type": "markdown",
   "metadata": {},
   "source": [
    "### Задача 2\n",
    "\n",
    "Напишите функцию `prepare_text()`, которая принимает на вход строку со словами через пробел, а возвращает список, состоящий из слов в нижнем регистре **без повторений**, отсортированный по алфавиту.\n",
    "\n",
    "**Пример:**\n",
    "\n",
    "Входные данные:\n",
    "\n",
    "    \"В лесу родилась ёлочка В лесу она росла\"\n",
    "\n",
    "Выходные данные:\n",
    "\n",
    "    ['в', 'лесу', 'она', 'родилась', 'росла', 'ёлочка']"
   ]
  },
  {
   "cell_type": "code",
   "execution_count": 3,
   "metadata": {},
   "outputs": [],
   "source": [
    "def prepare_text(text):\n",
    "    words = text.lower().split()\n",
    "    result = sorted(set(words))\n",
    "    return result"
   ]
  },
  {
   "cell_type": "code",
   "execution_count": 4,
   "metadata": {},
   "outputs": [
    {
     "data": {
      "text/plain": [
       "['в', 'лесу', 'она', 'родилась', 'росла', 'ёлочка']"
      ]
     },
     "execution_count": 4,
     "metadata": {},
     "output_type": "execute_result"
    }
   ],
   "source": [
    "prepare_text(\"В лесу родилась ёлочка В лесу она росла\")"
   ]
  },
  {
   "cell_type": "markdown",
   "metadata": {},
   "source": [
    "### Задача 3\n",
    "\n",
    "Напишите функцию `get_data()`, которая принимает на вход два списка (имена людей и их возраст) и делает следующее:\n",
    "\n",
    "* если эти два списка имеют одинаковую длину, то возвращает словарь с парами имя-возраст;\n",
    "\n",
    "* если эти два списка имеют разную длину, то функция выводит на экран сообщение `\"Списки имеют разную длину\"` и возвращает пустой словарь.\n",
    "\n",
    "**Пример:**\n",
    "\n",
    "Входные данные:\n",
    "\n",
    "    [\"Ann\", \"Tim\", \"Sam\"]\n",
    "    [12, 23, 17]\n",
    "\n",
    "Выходные данные:\n",
    "\n",
    "    {\"Ann\": 12, \"Tim\": 23, \"Sam\": 17}\n",
    "\n",
    "Входные данные:\n",
    "\n",
    "    [\"Ann\", \"Tim\", \"Sam\"]\n",
    "    [12, 23, 17, 45]\n",
    "\n",
    "Выходные данные:\n",
    "\n",
    "    Списки имеют разную длину\n",
    "    {}"
   ]
  },
  {
   "cell_type": "code",
   "execution_count": 5,
   "metadata": {},
   "outputs": [],
   "source": [
    "def get_data(names, ages):\n",
    "    if len(names) == len(ages):\n",
    "        data = dict(zip(names, ages))\n",
    "    else:\n",
    "        data = {}\n",
    "        print(\"Списки имеют разную длину\")\n",
    "    return data"
   ]
  },
  {
   "cell_type": "code",
   "execution_count": 6,
   "metadata": {},
   "outputs": [
    {
     "data": {
      "text/plain": [
       "{'Ann': 12, 'Tim': 23, 'Sam': 17}"
      ]
     },
     "execution_count": 6,
     "metadata": {},
     "output_type": "execute_result"
    }
   ],
   "source": [
    "get_data([\"Ann\", \"Tim\", \"Sam\"], \n",
    "         [12, 23, 17])"
   ]
  },
  {
   "cell_type": "code",
   "execution_count": 7,
   "metadata": {},
   "outputs": [
    {
     "name": "stdout",
     "output_type": "stream",
     "text": [
      "Списки имеют разную длину\n"
     ]
    },
    {
     "data": {
      "text/plain": [
       "{}"
      ]
     },
     "execution_count": 7,
     "metadata": {},
     "output_type": "execute_result"
    }
   ],
   "source": [
    "get_data([\"Ann\", \"Tim\", \"Sam\"], \n",
    "         [12, 23])"
   ]
  },
  {
   "cell_type": "markdown",
   "metadata": {},
   "source": [
    "### Задача 4\n",
    "\n",
    "Напишите функцию `check()`, которая запрашивает с клавиатуры набор чисел через пробел для сортировки по возврастанию (предполагаем, что пользователь вводит только числа, целые или дробные) и:\n",
    "\n",
    "* возвращает список чисел, введенный пользователем (все элементы списка – типа `float`);\n",
    "* выводит на экран сообщение `Числа уже отсортированы`, если пользователь ввел числа по возрастанию и сообщение `Сортировка произведена` в противном случае."
   ]
  },
  {
   "cell_type": "code",
   "execution_count": 8,
   "metadata": {},
   "outputs": [],
   "source": [
    "# уточнение: имеется в виду – \n",
    "# возвращает список чисел, введенный пользователем, \n",
    "# отсортированный по возрастанию\n",
    "\n",
    "def check():\n",
    "    inp = input().split()\n",
    "    numbers = [float(i) for i in inp]\n",
    "    numbers_sorted = sorted(numbers)\n",
    "    if numbers == numbers_sorted:\n",
    "        print(\"Числа уже отсортированы\")\n",
    "    else:\n",
    "        print(\"Сортировка произведена\")\n",
    "    return numbers_sorted"
   ]
  },
  {
   "cell_type": "code",
   "execution_count": 9,
   "metadata": {},
   "outputs": [
    {
     "name": "stdout",
     "output_type": "stream",
     "text": [
      "0 1 5 9.5 10\n",
      "Числа уже отсортированы\n"
     ]
    },
    {
     "data": {
      "text/plain": [
       "[0.0, 1.0, 5.0, 9.5, 10.0]"
      ]
     },
     "execution_count": 9,
     "metadata": {},
     "output_type": "execute_result"
    }
   ],
   "source": [
    "check()"
   ]
  },
  {
   "cell_type": "code",
   "execution_count": 10,
   "metadata": {},
   "outputs": [
    {
     "name": "stdout",
     "output_type": "stream",
     "text": [
      "8 -1 5.6 4.22 7\n",
      "Сортировка произведена\n"
     ]
    },
    {
     "data": {
      "text/plain": [
       "[-1.0, 4.22, 5.6, 7.0, 8.0]"
      ]
     },
     "execution_count": 10,
     "metadata": {},
     "output_type": "execute_result"
    }
   ],
   "source": [
    "check()"
   ]
  }
 ],
 "metadata": {
  "kernelspec": {
   "display_name": "Python 3",
   "language": "python",
   "name": "python3"
  },
  "language_info": {
   "codemirror_mode": {
    "name": "ipython",
    "version": 3
   },
   "file_extension": ".py",
   "mimetype": "text/x-python",
   "name": "python",
   "nbconvert_exporter": "python",
   "pygments_lexer": "ipython3",
   "version": "3.7.4"
  }
 },
 "nbformat": 4,
 "nbformat_minor": 2
}
