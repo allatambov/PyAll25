{
 "cells": [
  {
   "cell_type": "markdown",
   "metadata": {},
   "source": [
    "# Программирование для всех<br>(основы работы с Python)\n",
    "\n",
    "*Тамбовцева А.А.*\n",
    "\n",
    "## Практикум 4: продолжение. Словари и методы на словарях"
   ]
  },
  {
   "cell_type": "markdown",
   "metadata": {},
   "source": [
    "### Задача 1\n",
    "\n",
    "Дан словарь с названиями разных рептилий:"
   ]
  },
  {
   "cell_type": "code",
   "execution_count": 1,
   "metadata": {},
   "outputs": [],
   "source": [
    "rept = {\"python\" : \" питон\", \n",
    "        \"anaconda\" : \"анаконда\", \n",
    "        \"tortoize\" : \" черепаха\" }"
   ]
  },
  {
   "cell_type": "markdown",
   "metadata": {},
   "source": [
    "a. Добавьте в словарь пару \"snake\" – \" змея\".\n",
    "\n",
    "b. Исправьте ключ \"tortoize\" на правильный \"tortoise\".\n",
    "\n",
    "c. Для всех слов в словаре выведите на экран сообщения вида `Питон по-английски будет python.`"
   ]
  },
  {
   "cell_type": "code",
   "execution_count": 2,
   "metadata": {},
   "outputs": [
    {
     "name": "stdout",
     "output_type": "stream",
     "text": [
      "{'python': ' питон', 'anaconda': 'анаконда', 'tortoize': ' черепаха', 'snake': 'змея'}\n"
     ]
    }
   ],
   "source": [
    "# a \n",
    "rept[\"snake\"] = \"змея\"\n",
    "print(rept)"
   ]
  },
  {
   "cell_type": "code",
   "execution_count": 3,
   "metadata": {},
   "outputs": [
    {
     "name": "stdout",
     "output_type": "stream",
     "text": [
      "{'python': ' питон', 'anaconda': 'анаконда', 'snake': 'змея', 'tortoize': ' черепаха'}\n"
     ]
    }
   ],
   "source": [
    "# b\n",
    "old = rept.pop(\"tortoize\")\n",
    "rept.update({\"tortoize\" : old})\n",
    "print(rept)"
   ]
  },
  {
   "cell_type": "code",
   "execution_count": 4,
   "metadata": {},
   "outputs": [
    {
     "name": "stdout",
     "output_type": "stream",
     "text": [
      "Питон по-английски будет python.\n",
      "Анаконда по-английски будет anaconda.\n",
      "Змея по-английски будет snake.\n",
      "Черепаха по-английски будет tortoize.\n"
     ]
    }
   ],
   "source": [
    "# c\n",
    "for en, ru in rept.items():\n",
    "    print(f\"{ru.strip().capitalize()} по-английски будет {en}.\")"
   ]
  },
  {
   "cell_type": "markdown",
   "metadata": {},
   "source": [
    "### Задача 2\n",
    "\n",
    "a. Напишите программу, которая запрашивает с клавиатуры имена питомцев через пробел, затем – их вид через пробел, и создает словарь `data`, где ключами являются имена питомцев, значениями – их вид.\n",
    "\n",
    "**Пример работы программы:**\n",
    "\n",
    "Ввод:\n",
    "\n",
    "    Стар Бобик Клякса Кеша Барсик\n",
    "    кот собака крыса попугай кот\n",
    "\n",
    "Словарь:\n",
    "\n",
    "    {'Стар': 'кот',\n",
    "     'Бобик': 'собака',\n",
    "     'Клякса': 'крыса',\n",
    "     'Кеша': 'попугай',\n",
    "     'Барсик': 'кот'}"
   ]
  },
  {
   "cell_type": "code",
   "execution_count": 6,
   "metadata": {},
   "outputs": [
    {
     "name": "stdout",
     "output_type": "stream",
     "text": [
      "Стар Бобик Клякса Кеша Барсик\n",
      "кот собака крыса попугай кот\n",
      "{'Стар': 'кот', 'Бобик': 'собака', 'Клякса': 'крыса', 'Кеша': 'попугай', 'Барсик': 'кот'}\n"
     ]
    }
   ],
   "source": [
    "names = input().split()\n",
    "pets = input().split()\n",
    "\n",
    "data = dict(zip(names, pets))\n",
    "print(data)"
   ]
  },
  {
   "cell_type": "markdown",
   "metadata": {},
   "source": [
    "b. Напишите программу, которая запрашивает с клавиатуры вид и на основе словаря `data` выводит на экран имена всех питомцев такого вида (каждое – с новой строки). \n",
    "\n",
    "**Пример работы программы:**\n",
    "\n",
    "Словарь:\n",
    "\n",
    "    {'Стар': 'кот',\n",
    "     'Бобик': 'собака',\n",
    "     'Клякса': 'крыса',\n",
    "     'Кеша': 'попугай',\n",
    "     'Барсик': 'кот'}\n",
    "    \n",
    "Ввод:\n",
    "\n",
    "    кот\n",
    "    \n",
    "Вывод:\n",
    "\n",
    "    Стар    \n",
    "    Барсик"
   ]
  },
  {
   "cell_type": "code",
   "execution_count": 7,
   "metadata": {},
   "outputs": [
    {
     "name": "stdout",
     "output_type": "stream",
     "text": [
      "кот\n",
      "Стар\n",
      "Барсик\n"
     ]
    }
   ],
   "source": [
    "spec = input()\n",
    "\n",
    "for name, pet in data.items():\n",
    "    if pet == spec:\n",
    "        print(name)"
   ]
  },
  {
   "cell_type": "markdown",
   "metadata": {},
   "source": [
    "### Задача 3\n",
    "\n",
    "В словаре `playlist` сохранены названия песен разных групп (ключ – название группы, значение – список названий песен через запятую в одной строке)."
   ]
  },
  {
   "cell_type": "code",
   "execution_count": 8,
   "metadata": {},
   "outputs": [],
   "source": [
    "playlist = {\n",
    "    \"Beatles\" : [\"All You Need Is Love\", \n",
    "                 \"With a Little Help from My Friends\", \n",
    "                 \"A Day in the Life\", \n",
    "                 \"Let it Be\"],\n",
    "    \"Queen\" : [\"I Want to Break Free\", \n",
    "               \"Friends Will Be Friends\", \n",
    "               \"Love of My Life\", \n",
    "               \"Radio Ga Ga\",\n",
    "               \"I’m Going Slightly Mad\"],\n",
    "    \"ABBA\" : [\"I Let the Music Speak\", \n",
    "              \"The Visitors\", \n",
    "              \"Happy New Year\", \n",
    "              \"Lay All Your Love on Me\", \n",
    "              \"I Have a Dream\", \n",
    "              \"My Love, My Life\"],\n",
    "    \"Deep Purple\" : [\"Demon’s Eye\", \n",
    "          \"Don’t Make Me Happy\", \n",
    "          \"Love Conquers All\", \n",
    "          \"Seventh Heaven\"],\n",
    "    \"KISS\" : [\"Turn On the Night\", \n",
    "              \"I Was Made for Lovin’ You\", \n",
    "              \"Love Gun\", \n",
    "              \"God of Thunder\"]\n",
    "}"
   ]
  },
  {
   "cell_type": "markdown",
   "metadata": {},
   "source": [
    "Напишите программу, которая запрашивает с клавиатуры слово из названия песни и выводит на экран названия групп, исполняющих такие песни, а также названия подходящих песен (каждая группа – с новой строки). Если введенное слово не встречается ни в одном названии песни, программа не должна выводить на экран ничего.\n",
    "\n",
    "Для более корректных сравнений имеет смысл привести слово и название песни к нижнему регистру (маленькие буквы).\n",
    "\n",
    "**Пример работы программы:**\n",
    "\n",
    "Ввод:\n",
    "\n",
    "    happy\n",
    "    \n",
    "Вывод:\n",
    "\n",
    "    ABBA Happy New Year\n",
    "    Deep Purple Don’t Make Me Happy\n",
    "    \n",
    "Ввод:\n",
    "\n",
    "    LIFE\n",
    "\n",
    "Вывод:\n",
    "\n",
    "    Beatles A Day in the Life\n",
    "    Queen Love of My Life\n",
    "    ABBA My Love, My Life\n",
    "    \n",
    "Ввод:\n",
    "\n",
    "    yellow\n",
    "    \n",
    "Вывод:\n",
    "\n",
    "    [ничего не выводится]"
   ]
  },
  {
   "cell_type": "code",
   "execution_count": 9,
   "metadata": {},
   "outputs": [
    {
     "name": "stdout",
     "output_type": "stream",
     "text": [
      "happy\n",
      "ABBA Happy New Year\n",
      "Deep Purple Don’t Make Me Happy\n"
     ]
    }
   ],
   "source": [
    "key = input().lower()\n",
    "\n",
    "for group, songs in playlist.items():\n",
    "    for song in songs:\n",
    "        if key in song.lower():\n",
    "            print(group, song)"
   ]
  },
  {
   "cell_type": "markdown",
   "metadata": {},
   "source": [
    "### Задача 4\n",
    "\n",
    "На повышенную стипендию могут претендовать студенты со средним баллом не ниже 8 по 10-балльной шкале. Оценки студентов записаны в словаре `gradebook`:"
   ]
  },
  {
   "cell_type": "code",
   "execution_count": 10,
   "metadata": {},
   "outputs": [],
   "source": [
    "gradebook = {\n",
    "    'Harry Potter': [7, 6, 8, 6, 6],\n",
    "    'Hermione Granger': [10, 10, 9, 10, 10, 9, 9],\n",
    "    'Ron Weasley': [6, 5, 7, 4, 5],\n",
    "    'Ginny Weasley': [9, 7, 8, 9],\n",
    "    'Neville Longbottom': [6, 10, 7, 7, 9]\n",
    "}"
   ]
  },
  {
   "cell_type": "markdown",
   "metadata": {},
   "source": [
    "Напишите программу, которая выведет на экран **в алфавитном порядке** имена студентов (каждое имя – с новой строки), которые могут претендовать на повышенную стипендию. \n",
    "\n",
    "Ожидаемый результат:\n",
    "\n",
    "    Ginny Weasley\n",
    "    Hermione Granger"
   ]
  },
  {
   "cell_type": "code",
   "execution_count": 11,
   "metadata": {},
   "outputs": [
    {
     "name": "stdout",
     "output_type": "stream",
     "text": [
      "Ginny Weasley\n",
      "Hermione Granger\n"
     ]
    }
   ],
   "source": [
    "top = []\n",
    "\n",
    "for name, grades in gradebook.items():\n",
    "    avg = sum(grades) / len(grades)\n",
    "    if avg > 8:\n",
    "        top.append(name)\n",
    "        \n",
    "for i in sorted(top):\n",
    "    print(i)"
   ]
  },
  {
   "cell_type": "markdown",
   "metadata": {},
   "source": [
    "### Задача 5\n",
    "\n",
    "В списке `pairs` сохранены пары целых чисел. Создайте словарь `calc`, где **ключами** являются пары чисел, а **значениями** – их произведение."
   ]
  },
  {
   "cell_type": "code",
   "execution_count": 12,
   "metadata": {},
   "outputs": [
    {
     "name": "stdout",
     "output_type": "stream",
     "text": [
      "{(2, 4): 8, (4, 6): 24, (0, 1): 0, (5, 2): 10, (9, 1): 9, (3, 8): 24}\n"
     ]
    }
   ],
   "source": [
    "pairs = [(2, 4), (4, 6), (0, 1), \n",
    "         (5, 2), (9, 1), (3, 8)]\n",
    "\n",
    "calc = {}\n",
    "\n",
    "for p in pairs:\n",
    "    calc.update({p : p[0] * p[1]})\n",
    "    \n",
    "print(calc)"
   ]
  },
  {
   "cell_type": "markdown",
   "metadata": {},
   "source": [
    "Попробуйте проделать то же со списком `pairs_surprise`."
   ]
  },
  {
   "cell_type": "code",
   "execution_count": 14,
   "metadata": {},
   "outputs": [
    {
     "ename": "TypeError",
     "evalue": "unhashable type: 'list'",
     "output_type": "error",
     "traceback": [
      "\u001b[0;31m---------------------------------------------------------------------------\u001b[0m",
      "\u001b[0;31mTypeError\u001b[0m                                 Traceback (most recent call last)",
      "\u001b[0;32m<ipython-input-14-02aa9805bb3e>\u001b[0m in \u001b[0;36m<module>\u001b[0;34m\u001b[0m\n\u001b[1;32m     10\u001b[0m \u001b[0;34m\u001b[0m\u001b[0m\n\u001b[1;32m     11\u001b[0m \u001b[0;32mfor\u001b[0m \u001b[0mp\u001b[0m \u001b[0;32min\u001b[0m \u001b[0mpairs_surprise\u001b[0m\u001b[0;34m:\u001b[0m\u001b[0;34m\u001b[0m\u001b[0;34m\u001b[0m\u001b[0m\n\u001b[0;32m---> 12\u001b[0;31m     \u001b[0mcalc\u001b[0m\u001b[0;34m.\u001b[0m\u001b[0mupdate\u001b[0m\u001b[0;34m(\u001b[0m\u001b[0;34m{\u001b[0m\u001b[0mp\u001b[0m \u001b[0;34m:\u001b[0m \u001b[0mp\u001b[0m\u001b[0;34m[\u001b[0m\u001b[0;36m0\u001b[0m\u001b[0;34m]\u001b[0m \u001b[0;34m*\u001b[0m \u001b[0mp\u001b[0m\u001b[0;34m[\u001b[0m\u001b[0;36m1\u001b[0m\u001b[0;34m]\u001b[0m\u001b[0;34m}\u001b[0m\u001b[0;34m)\u001b[0m\u001b[0;34m\u001b[0m\u001b[0;34m\u001b[0m\u001b[0m\n\u001b[0m",
      "\u001b[0;31mTypeError\u001b[0m: unhashable type: 'list'"
     ]
    }
   ],
   "source": [
    "pairs_surprise = [[2, 4], [4, 6], [0, 1], \n",
    "                  [5, 2], [9, 1], [3, 8]]\n",
    "\n",
    "# не получается,\n",
    "# в словарях ключами могут быть только\n",
    "# неизменяемые типы, list изменяемый,\n",
    "# а tuple в варианте выше – нет\n",
    "\n",
    "calc = {}\n",
    "\n",
    "for p in pairs_surprise:\n",
    "    calc.update({p : p[0] * p[1]})"
   ]
  }
 ],
 "metadata": {
  "kernelspec": {
   "display_name": "Python 3",
   "language": "python",
   "name": "python3"
  },
  "language_info": {
   "codemirror_mode": {
    "name": "ipython",
    "version": 3
   },
   "file_extension": ".py",
   "mimetype": "text/x-python",
   "name": "python",
   "nbconvert_exporter": "python",
   "pygments_lexer": "ipython3",
   "version": "3.7.4"
  }
 },
 "nbformat": 4,
 "nbformat_minor": 2
}
